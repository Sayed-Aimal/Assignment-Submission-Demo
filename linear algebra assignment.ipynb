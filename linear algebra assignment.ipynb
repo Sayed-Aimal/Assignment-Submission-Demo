{
 "cells": [
  {
   "cell_type": "code",
   "execution_count": 1,
   "metadata": {},
   "outputs": [],
   "source": [
    "import turtle\n",
    "ninja = turtle.Turtle()\n",
    "ninja.speed(10)\n",
    "\n",
    "for i in range(180):\n",
    "     ninja.forward(100)\n",
    "     ninja.right(30)\n",
    "     ninja.forward(20)\n",
    "     ninja.left(60)\n",
    "     ninja.forward(50)\n",
    "     ninja.right(30)\n",
    "\n",
    "     ninja.penup()\n",
    "     ninja.setposition(0, 0)\n",
    "     ninja.pendown()\n",
    "\n",
    "     ninja.right(2)\n",
    "     \n",
    "     #turtle.done()"
   ]
  }
 ],
 "metadata": {
  "kernelspec": {
   "display_name": "Python 3.9.2 64-bit",
   "language": "python",
   "name": "python3"
  },
  "language_info": {
   "codemirror_mode": {
    "name": "ipython",
    "version": 3
   },
   "file_extension": ".py",
   "mimetype": "text/x-python",
   "name": "python",
   "nbconvert_exporter": "python",
   "pygments_lexer": "ipython3",
   "version": "3.9.2"
  },
  "orig_nbformat": 4,
  "vscode": {
   "interpreter": {
    "hash": "11938c6bc6919ae2720b4d5011047913343b08a43b18698fd82dedb0d4417594"
   }
  }
 },
 "nbformat": 4,
 "nbformat_minor": 2
}
